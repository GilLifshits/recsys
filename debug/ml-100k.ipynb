{
 "cells": [
  {
   "cell_type": "code",
   "execution_count": 3,
   "metadata": {},
   "outputs": [],
   "source": [
    "from recbole.data import load_split_dataloaders\n",
    "\n",
    "dataloader_file = '/home/d1/peijie/task/RecBole/saved_data/ml-100k-for-BPR-dataloader.pth'\n",
    "train_data, valid_data, test_data = load_split_dataloaders(dataloader_file)\n",
    "\n",
    "import pandas as pd\n",
    "df=pd.read_csv('/home/d1/peijie/task/RecBole/dataset/ml-100k/ml-100k.inter', sep='\\t')\n",
    "rating_dict = {}\n",
    "for index, row in df.iterrows():\n",
    "    user_token = row['user_id:token']\n",
    "    item_token = row['item_id:token'] \n",
    "    rating = row['rating:float']\n",
    "    rating_dict[(user_token, item_token)] = rating\n",
    "\n",
    "from collections import defaultdict\n",
    "user_historical_items_dict, item_historical_users_dict = defaultdict(set), defaultdict(set)\n",
    "inter_user_list, inter_item_list = train_data.dataset.inter_feat['user_id'].tolist(), train_data.dataset.inter_feat['item_id'].tolist()\n",
    "for idx, user in enumerate(inter_user_list):\n",
    "    item = inter_item_list[idx]\n",
    "\n",
    "    user_token = train_data.dataset.field2id_token['user_id'][user]\n",
    "    item_token = train_data.dataset.field2id_token['item_id'][item]\n",
    "    \n",
    "    user_historical_items_dict[user].add('user:%s' % user_token)\n",
    "    user_historical_items_dict[user].add('%s:%d' % (item_token, rating_dict[(int(user_token), int(item_token))]))\n",
    "    item_historical_users_dict[item_token].add('%s:%d' % (user_token, rating_dict[(int(user_token), int(item_token))]))\n",
    "item_stat_list = dict()\n",
    "for item_token, clicks_list in item_historical_users_dict.items():\n",
    "    item_stat_list[item_token] = 'toal_len: %d' % len(clicks_list)\n",
    "user_stat_list = dict()\n",
    "for user, clicked_list in user_historical_items_dict.items():\n",
    "    user_stat_list[user] = 'toal_len: %d' % len(clicked_list)\n",
    "\n",
    "user_clicked_items_dict = defaultdict(set)\n",
    "inter_user_list, inter_item_list = test_data.dataset.inter_feat['user_id'].tolist(), test_data.dataset.inter_feat['item_id'].tolist()\n",
    "for idx, user in enumerate(inter_user_list):\n",
    "    item = inter_item_list[idx]\n",
    "    user_clicked_items_dict[user].add(item)\n"
   ]
  },
  {
   "cell_type": "code",
   "execution_count": 7,
   "metadata": {},
   "outputs": [
    {
     "data": {
      "text/plain": [
       "91"
      ]
     },
     "execution_count": 7,
     "metadata": {},
     "output_type": "execute_result"
    }
   ],
   "source": [
    "len(item_historical_users_dict['242'])"
   ]
  },
  {
   "cell_type": "code",
   "execution_count": 6,
   "metadata": {
    "scrolled": false
   },
   "outputs": [
    {
     "data": {
      "text/plain": [
       "237"
      ]
     },
     "execution_count": 6,
     "metadata": {},
     "output_type": "execute_result"
    }
   ],
   "source": [
    "len(item_historical_users_dict['302'])"
   ]
  },
  {
   "cell_type": "code",
   "execution_count": 36,
   "metadata": {},
   "outputs": [
    {
     "data": {
      "text/plain": [
       "119"
      ]
     },
     "execution_count": 36,
     "metadata": {},
     "output_type": "execute_result"
    }
   ],
   "source": [
    "len(item_historical_users_dict['304'])"
   ]
  },
  {
   "cell_type": "code",
   "execution_count": 8,
   "metadata": {},
   "outputs": [
    {
     "data": {
      "text/plain": [
       "63"
      ]
     },
     "execution_count": 8,
     "metadata": {},
     "output_type": "execute_result"
    }
   ],
   "source": [
    "len(item_historical_users_dict['221'])"
   ]
  },
  {
   "cell_type": "code",
   "execution_count": 32,
   "metadata": {},
   "outputs": [],
   "source": [
    "a242 = set([x.split(':')[0] for x in item_historical_users_dict['242']])\n",
    "a302 = set([x.split(':')[0] for x in item_historical_users_dict['302']])\n",
    "a221 = set([x.split(':')[0] for x in item_historical_users_dict['221']])\n",
    "a304 = set([x.split(':')[0] for x in item_historical_users_dict['304']])"
   ]
  },
  {
   "cell_type": "code",
   "execution_count": 27,
   "metadata": {},
   "outputs": [
    {
     "data": {
      "text/plain": [
       "39"
      ]
     },
     "execution_count": 27,
     "metadata": {},
     "output_type": "execute_result"
    }
   ],
   "source": [
    "len(set(a242).intersection(set(a302)))"
   ]
  },
  {
   "cell_type": "code",
   "execution_count": 28,
   "metadata": {},
   "outputs": [
    {
     "data": {
      "text/plain": [
       "21"
      ]
     },
     "execution_count": 28,
     "metadata": {},
     "output_type": "execute_result"
    }
   ],
   "source": [
    "len(set(a242).intersection(set(a221)))"
   ]
  },
  {
   "cell_type": "code",
   "execution_count": 29,
   "metadata": {},
   "outputs": [
    {
     "data": {
      "text/plain": [
       "'242'"
      ]
     },
     "execution_count": 29,
     "metadata": {},
     "output_type": "execute_result"
    }
   ],
   "source": [
    "train_data.dataset.field2id_token['item_id'][1]"
   ]
  },
  {
   "cell_type": "code",
   "execution_count": 30,
   "metadata": {},
   "outputs": [
    {
     "data": {
      "text/plain": [
       "'302'"
      ]
     },
     "execution_count": 30,
     "metadata": {},
     "output_type": "execute_result"
    }
   ],
   "source": [
    "train_data.dataset.field2id_token['item_id'][2]"
   ]
  },
  {
   "cell_type": "code",
   "execution_count": 31,
   "metadata": {},
   "outputs": [
    {
     "data": {
      "text/plain": [
       "'304'"
      ]
     },
     "execution_count": 31,
     "metadata": {},
     "output_type": "execute_result"
    }
   ],
   "source": [
    "train_data.dataset.field2id_token['item_id'][41]"
   ]
  },
  {
   "cell_type": "code",
   "execution_count": 33,
   "metadata": {},
   "outputs": [
    {
     "data": {
      "text/plain": [
       "22"
      ]
     },
     "execution_count": 33,
     "metadata": {},
     "output_type": "execute_result"
    }
   ],
   "source": [
    "len(set(a242).intersection(set(a304)))"
   ]
  },
  {
   "cell_type": "code",
   "execution_count": 34,
   "metadata": {},
   "outputs": [
    {
     "data": {
      "text/plain": [
       "43"
      ]
     },
     "execution_count": 34,
     "metadata": {},
     "output_type": "execute_result"
    }
   ],
   "source": [
    "len(set(a302).intersection(set(a304)))"
   ]
  },
  {
   "cell_type": "code",
   "execution_count": 1,
   "metadata": {},
   "outputs": [
    {
     "ename": "ModuleNotFoundError",
     "evalue": "No module named 'igraph'",
     "output_type": "error",
     "traceback": [
      "\u001b[0;31m---------------------------------------------------------------------------\u001b[0m",
      "\u001b[0;31mModuleNotFoundError\u001b[0m                       Traceback (most recent call last)",
      "\u001b[0;32m<ipython-input-1-73ffca960e68>\u001b[0m in \u001b[0;36m<module>\u001b[0;34m\u001b[0m\n\u001b[0;32m----> 1\u001b[0;31m \u001b[0;32mimport\u001b[0m \u001b[0migraph\u001b[0m\u001b[0;34m\u001b[0m\u001b[0;34m\u001b[0m\u001b[0m\n\u001b[0m",
      "\u001b[0;31mModuleNotFoundError\u001b[0m: No module named 'igraph'"
     ]
    }
   ],
   "source": [
    "import igraph"
   ]
  },
  {
   "cell_type": "code",
   "execution_count": null,
   "metadata": {},
   "outputs": [],
   "source": []
  }
 ],
 "metadata": {
  "kernelspec": {
   "display_name": "Python 3",
   "language": "python",
   "name": "python3"
  },
  "language_info": {
   "codemirror_mode": {
    "name": "ipython",
    "version": 3
   },
   "file_extension": ".py",
   "mimetype": "text/x-python",
   "name": "python",
   "nbconvert_exporter": "python",
   "pygments_lexer": "ipython3",
   "version": "3.6.9"
  }
 },
 "nbformat": 4,
 "nbformat_minor": 4
}
